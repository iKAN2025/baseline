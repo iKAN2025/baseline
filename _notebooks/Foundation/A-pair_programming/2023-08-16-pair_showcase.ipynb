{
 "cells": [
  {
   "cell_type": "raw",
   "metadata": {
    "vscode": {
     "languageId": "raw"
    }
   },
   "source": [
    "---\n",
    "layout: post\n",
    "title: Pair Showcase\n",
    "description: Anytime in Sprint 1 is time to show accomplishments to teacher. The last week of the Spring there will be a formal live review meeting.\n",
    "categories: [Collaboration]\n",
    "courses: { csse: {week: 3}, csp: {week: 3}, csa: {week: 2} }\n",
    "menu: nav/pair_programming.html\n",
    "permalink: /pair/showcase\n",
    "type: collab\n",
    "comments: true\n",
    "---"
   ]
  },
  {
   "cell_type": "markdown",
   "metadata": {},
   "source": [
    "## Showcase Overview\n",
    "This will be a Live Review!  A Live Review is where Students present to a Teacher.   The Students share accomplishments from the Sprint with the Teacher.  The review will highlight elements from the sprint.\n",
    "\n",
    "Work is performed daily in class, expectations are 2 hours of outside work weekly for CSSE, 3 hours for CSP and CSA.  A Showcase for a Sprint is where you, and in this case your pair, have progressed working on provided Assignments and Hacks in the time provided until you reach the scheduled Showcase.  Everything is iterative, so there is no such thing as extended time in a Sprint Showcase.  Everyday you should be adding work and make blog updates to prepare for the Showcase. "
   ]
  },
  {
   "cell_type": "markdown",
   "metadata": {},
   "source": [
    "# HTML Hack"
   ]
  },
  {
   "cell_type": "markdown",
   "metadata": {},
   "source": []
  },
  {
   "cell_type": "raw",
   "metadata": {},
   "source": []
  },
  {
   "cell_type": "markdown",
   "metadata": {},
   "source": [
    "\n",
    "<html lang=\"en\">\n",
    "<head>\n",
    "    <meta charset=\"UTF-8\">\n",
    "    <meta name=\"viewport\" content=\"width=device-width, initial-scale=1.0\">\n",
    "    <title>Change Div Style</title>\n",
    "    <style>\n",
    "        #myDiv {\n",
    "            width: 300px;\n",
    "            padding: 20px;\n",
    "            background-color: lightblue;\n",
    "            border: 2px solid black;\n",
    "            margin: 20px auto;\n",
    "            text-align: center;\n",
    "            transition: background-color 0.3s, border 0.3s;\n",
    "        }\n",
    "\n",
    "        #changeStyleButton {\n",
    "            margin-top: 10px;\n",
    "        }\n",
    "    </style>\n",
    "</head>\n",
    "<body>\n",
    "\n",
    "<div id=\"myDiv\">\n",
    "    <p>Hi! I'm Bella, and this is part of my wireframe!</p>\n",
    "    <button id=\"changeStyleButton\">Change Style</button>\n",
    "</div>\n",
    "<div id=\"placeAfter\">\n",
    "    <a href=\"/about/\"> My Site </a> <br>\n",
    "    <a href=\"placeLinkHere\"> Partner's Site </a>\n",
    "    <p> This Div was created only using html. This is Trystan's part of the project </p>\n",
    "</div>\n",
    "<script>\n",
    "document.getElementById('changeStyleButton').addEventListener('click', function() {\n",
    "    const myDiv = document.getElementById('myDiv');\n",
    "    const newColor = '#'+(Math.random()*0xFFFFFF<<0).toString(16); // Generate a random color\n",
    "\n",
    "    // Change the background color and border of the div\n",
    "    myDiv.style.backgroundColor = newColor;\n",
    "    myDiv.style.border = `2px solid ${newColor}`;\n",
    "});\n",
    "</script>\n",
    "\n",
    "</body>\n",
    "</html>\n"
   ]
  },
  {
   "cell_type": "markdown",
   "metadata": {},
   "source": []
  },
  {
   "cell_type": "markdown",
   "metadata": {
    "vscode": {
     "languageId": "javascript"
    }
   },
   "source": [
    "<script> \n",
    "const bella = {\n",
    "    githubid: \"iKAN2025\",\n",
    "    name: \"Bella\",\n",
    "    age: 2,\n",
    "    currentClasses: [\"AP CSA\", \"HPOE\", \"AP CHEM\", \"AP STATS\"],\n",
    "    interests: [\"Coding\", \"Reading\", \"Data Analysis\"],\n",
    "    languages: [\"JavaScript\", \"Python\", \"HTML\", \"CSS\"],\n",
    "    projects: [\n",
    "        {\n",
    "            title: \"Personal Website\",\n",
    "            status: \"In Progress\"\n",
    "        },\n",
    "    ]\n",
    "};\n",
    "\n",
    "\n",
    "\n",
    "// Step 2: Print the entire object\n",
    "console.log(\"Original Object:\", bella );\n",
    "\n",
    "// Step 3: Manipulate arrays within the object\n",
    "// Adding a new class\n",
    "bella.currentClasses.push(\"Linear Algebra\");\n",
    "\n",
    "// Removing an interest\n",
    "bella.interests.splice(1, 1); // Remove \"Reading\"\n",
    "\n",
    "// Update the status of a project\n",
    "bella.projects[0].status = \"Completed\";\n",
    "\n",
    "// Step 4: Print the entire object and the specific changed key\n",
    "console.log(\"Updated Object:\", bella);\n",
    "console.log(\"Updated currentClasses:\", bella.currentClasses);\n",
    "console.log(\"Updated interests:\", bella.interests);\n",
    "console.log(\"Updated projects:\", bella.projects);\n",
    "\n",
    "// Step 5: Perform mathematical operations on fields\n",
    "const doubleAge = bella.age * 2;\n",
    "const yearsToTen = 10 - bella.age;\n",
    "const modulusResult = bella.age % 2;\n",
    "\n",
    "console.log(\"Double the age:\", doubleAge); // Double the age\n",
    "console.log(\"Years until ChatGPT is 10 years old:\", yearsToTen); // Years until age 10\n",
    "console.log(\"Age modulus 2:\", modulusResult); // Age modulus 2 (even/odd check)\n",
    "\n",
    "// Step 6: Use typeof to determine the types of at least 3 fields\n",
    "console.log(\"Type of 'name':\", typeof bella.name);\n",
    "console.log(\"Type of 'age':\", typeof bella.age);\n",
    "console.log(\"Type of 'currentClasses':\", typeof bella.currentClasses);\n",
    "</script></script>"
   ]
  },
  {
   "cell_type": "markdown",
   "metadata": {},
   "source": []
  },
  {
   "cell_type": "markdown",
   "metadata": {},
   "source": []
  },
  {
   "cell_type": "markdown",
   "metadata": {},
   "source": [
    "## Showcase Requirements\n",
    "This is a culmination of all activities in a Sprint.\n",
    "    - Review Sprint Information.\n",
    "    - Be sure to open and review Sprint Illustration.\n",
    "\n",
    "\n",
    "During the Sprint there is always time to preview, communcate, or checkoff progress with the Teacher; if you have  shared progress during the sprint, be sure to highlight success to jog Teachers memory.  Never, never expect the Teacher to remember something you did.  The Showcase is time for you to shine, impress, and recap journey.\n",
    "\n",
    "\n",
    "- Format of Showcase.   This is a pair event.  This Sprint is focused on Pair Programming and Work, not Individual.   In a class, live reviews for this Showcase will be done in pairs or trios (rare, 3 or less per class) for this event.\n",
    "    - Make sure work is polished and reviewed.  Part of working with a pair is preparation, review, and testing prior to presenting to Teacher.  In the Tech world, quality presentations of Tech are as important as the Tech itself.  Never share work that has not be previewed or share buggy work in a Showcase.  This lacks professionalism.\n",
    "    - Google or Microsoft Docs, Sheets, Presentations are frowned upon and will result in significant deduction.  It is expected that you will be <b>showing materials from your personal Student blog</b>.  The Teacher believes using a blog is helping with your ability to design, organize, and code.\n",
    "    - Pair work can be shared, but both people should be able to talk about anything they expect to be counted toward their personal credit.  If you did not participate or carry your own load on a topic, be honest, don't fake accomplishments.  \n",
    "    - Attempts to get credit by claiming falsely or coat tailing is frowned upon.  \n",
    "- Preparation and Time.  The Showcase requires preparation.  At this event, it would be a mistake to ask \"what do you want to show?\". This type of question should be asked before the showcase.\".  Additionally, there are many sources that have been provided to answer that question.\n",
    "    - Spring Blogs. The hacks within the blogs contain requirements and extras that should/could be incorporated into the materials you present in the Showcase.\n"
   ]
  }
 ],
 "metadata": {
  "kernelspec": {
   "display_name": "Python 3",
   "language": "python",
   "name": "python3"
  },
  "language_info": {
   "codemirror_mode": {
    "name": "ipython",
    "version": 3
   },
   "file_extension": ".py",
   "mimetype": "text/x-python",
   "name": "python",
   "nbconvert_exporter": "python",
   "pygments_lexer": "ipython3",
   "version": "3.12.4"
  },
  "orig_nbformat": 4
 },
 "nbformat": 4,
 "nbformat_minor": 2
}
